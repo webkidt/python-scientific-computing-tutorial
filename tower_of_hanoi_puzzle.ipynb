{
 "cells": [
  {
   "cell_type": "code",
   "execution_count": null,
   "metadata": {},
   "outputs": [],
   "source": [
    "def stuff(a, b, c, d):\n",
    "  if a == 0:\n",
    "    return\n",
    "  stuff(a - 1, b, d, c)\n",
    "  print(a, b, c, d)\n",
    "  stuff(a - 1, d, c, b)\n",
    "\n",
    "\n",
    "stuff(3, 'A', 'C', 'B')"
   ]
  },
  {
   "cell_type": "markdown",
   "metadata": {},
   "source": [
    "## Undestanding Recursion\n",
    "\n",
    "Based on the stuff function above, which is tower of hanoi algorithm from GeeksforGeeks article  \n",
    "for Program for Tower of Hanoi.\n",
    "\n",
    "#### Rough Code\n",
    "```\n",
    "if num_of_disk == 2:\n",
    "  t(2, 'a', 'c', 'b') -> 2 a c b\n",
    "    t(1, 'a', 'b', 'c') -> 1 a b c\n",
    "      t(0, 'a', 'c', 'b') -> 0\n",
    "\n",
    "  t(1, 'b', 'c', 'a') -> 1 b c a\n",
    "    t(0, 'a', 'c', 'b') -> 0\n",
    "```\n"
   ]
  },
  {
   "cell_type": "code",
   "execution_count": null,
   "metadata": {},
   "outputs": [],
   "source": [
    "def TowerOfHanoi(n, from_rod, to_rod, aux_rod):\n",
    "  if n == 0:\n",
    "    return\n",
    "  TowerOfHanoi(n - 1, from_rod, aux_rod, to_rod)\n",
    "  print(\"Move disk\", n, \"from rod\", from_rod, \"to rod\", to_rod)\n",
    "  TowerOfHanoi(n - 1, aux_rod, to_rod, from_rod)\n",
    "\n",
    "\n",
    "for i in range(3, 0, -1):\n",
    "  print(i)"
   ]
  },
  {
   "cell_type": "markdown",
   "metadata": {},
   "source": [
    "## Learn Recursion By Solving Tower of Hanoi Puzzle\n",
    "\n",
    "### Steps:\n",
    "1. In this project, you will solve the mathematical puzzle known as the Tower of Hanoi. The puzzle consists of three rods and a number of disks of different diameters.  \n",
    "The goal of this puzzle is moving the disks from the first rod to the third rod, following specific rules that restrict placing a larger disk on top of a smaller one.  \n",
    "Start by creating an empty dictionary named **rods** to represent the rods.\n",
    "    \n",
    "2. The rods dictionary will represent the three rods with their disks. Give it the strings *'A'*, *'B'*, and *'C'* as keys and set each of them to an empty list.\n",
    "\n",
    "3. The puzzle starts with the disks piled up on the first rod, in decreasing size, with the smallest disk on top and the largest disk on the bottom. You need to populate your first list with numbers representing the various disk sizes.  \n",
    "Instead of adding the items manually to the first list, generate a sequence of numbers counting down from 3 to 1 by using the *range()* function and assign it to `rods['A']`. Here, 3 represents the largest disk at the bottom of the pile and 1 represents the smallest disk at the top of the pile.  \n",
    "The syntax is `range(x, y, h)`, where x is the starting integer (inclusive), y is the last integer (not inclusive), and h is the difference between a number and the next one in the sequence.\n",
    "\n",
    "4. Now check the data type of your 'A' key by passing it to the type() function and print the result on the terminal.\n",
    "\n",
    "5. The *range()* function returns an immutable sequence of numbers. As you can see, the data type of rods['A'] is range, but you want it to be a list.  \n",
    "Pass your *range()* call to the ***list()*** function to do that.\n",
    "\n",
    "6. Now that the type is list as required, you can remove the *print()* call.\n",
    "\n",
    "7. The goal of the Tower of Hanoi is moving all the disks to the last rod. To do that, you must follow three simple rules:\n",
    "    1. You can only move top-most disks.\n",
    "    2. You can move only one disk at a time.\n",
    "    3. You cannot place larger disks on top of smaller ones.\n",
    "    \n",
    "    Below your existing code, declare an empty function named **move**. Later on, you will use that function to move the disks between the rods. For now, to avoid errors, use the pass keyword inside the function body.\n",
    "\n",
    "  8. At the top of your code, declare a variable named **NUMBER_OF_DISKS** to store the number of disks and give it the value of 3. Then, replace the first argument passed in to the *range()* function with your new variable.\n",
    "\n",
    "  9. The Tower of Hanoi puzzle can be solved in 2^n - 1 moves, where n is the number of disks. Declare a variable named **number_of_moves** and assign the total number of moves to this variable.\n",
    "\n",
    "  10. Print the variable you declared in the previous step and feel free to change the number of disks to see how fast the required minimum number of moves increases.\n",
    "\n",
    "  11. Now you can remove your *print()* call. Then, inside the *move()* function, remove the pass keyword and print the content of your rods dictionary.\n",
    "\n",
    "  12. Now call your function and see the output on the terminal.\n"
   ]
  },
  {
   "cell_type": "code",
   "execution_count": 32,
   "metadata": {},
   "outputs": [
    {
     "name": "stdout",
     "output_type": "stream",
     "text": [
      "{'A': [3, 2, 1], 'B': [], 'C': []}\n"
     ]
    }
   ],
   "source": [
    "NUMBER_OF_DISKS = 3\n",
    "number_of_moves = 2 ** NUMBER_OF_DISKS - 1\n",
    "\n",
    "rods = {\n",
    "  'A': list(range(NUMBER_OF_DISKS, 0, -1)),\n",
    "  'B': [],\n",
    "  'C': []\n",
    "}\n",
    "\n",
    "def move():\n",
    "  print(rods)\n",
    "\n",
    "move()"
   ]
  }
 ],
 "metadata": {
  "kernelspec": {
   "display_name": "Python 3",
   "language": "python",
   "name": "python3"
  },
  "language_info": {
   "codemirror_mode": {
    "name": "ipython",
    "version": 3
   },
   "file_extension": ".py",
   "mimetype": "text/x-python",
   "name": "python",
   "nbconvert_exporter": "python",
   "pygments_lexer": "ipython3",
   "version": "3.12.2"
  }
 },
 "nbformat": 4,
 "nbformat_minor": 2
}
